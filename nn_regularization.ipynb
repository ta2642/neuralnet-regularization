{
  "cells": [
    {
      "cell_type": "markdown",
      "id": "ab80e7a0",
      "metadata": {
        "id": "ab80e7a0"
      },
      "source": [
        "Tamanna Ananna <br />\n",
        "ta2642"
      ]
    },
    {
      "cell_type": "code",
      "execution_count": null,
      "id": "5a63896a",
      "metadata": {
        "id": "5a63896a"
      },
      "outputs": [],
      "source": [
        "import tensorflow as tf"
      ]
    },
    {
      "cell_type": "code",
      "execution_count": 2,
      "id": "ag3xt-eeGLGc",
      "metadata": {
        "id": "ag3xt-eeGLGc"
      },
      "outputs": [],
      "source": [
        "import numpy as np\n",
        "import pandas as pd\n",
        "from sklearn.model_selection import train_test_split\n",
        "\n",
        "from mpl_toolkits import mplot3d\n",
        "from numpy.random import uniform\n",
        "\n",
        "\n",
        "import seaborn as sns\n",
        "import matplotlib.pyplot as plt\n",
        "from matplotlib import rcParamsDefault\n",
        "import tensorflow as tf\n",
        "import keras\n",
        "from keras import initializers\n",
        "import keras.layers as layers\n",
        "from keras.models import Sequential\n",
        "from keras.layers import Conv2D, MaxPooling2D, Activation, Dense, Dropout \n",
        "from keras.layers import LeakyReLU, Flatten, AveragePooling2D, BatchNormalization\n",
        "from keras import backend as K\n",
        "from keras.datasets import mnist\n",
        "\n",
        "from keras.preprocessing.image import ImageDataGenerator\n",
        "from keras.utils.np_utils import to_categorical\n",
        "from keras.callbacks import TensorBoard\n",
        "\n",
        "\n",
        "from tensorflow.keras.optimizers import RMSprop, Adam, SGD\n",
        "from tensorflow.keras.utils import to_categorical\n",
        "from tensorflow.image import grayscale_to_rgb\n",
        "from tensorflow import expand_dims\n",
        "\n",
        "\n",
        "from tensorflow.keras.callbacks import EarlyStopping\n",
        "from tensorflow.keras.metrics import RootMeanSquaredError\n",
        "import time\n",
        "\n",
        "from keras import backend as K\n",
        "\n",
        "\n"
      ]
    },
    {
      "cell_type": "markdown",
      "id": "kMZi44w_OVuR",
      "metadata": {
        "id": "kMZi44w_OVuR"
      },
      "source": [
        "Co-adaptation:\n",
        "\n",
        "Co-adaption refers to when some neural networks become highly dependent on each other. So if one of them receive bad or noisy input, the impact of the bad input spreads to the dependent networks as well. This leads to over-fitting. Drop out is a way of dealing with co-adaption, where randomly units are dropped during training, preventing them from being reliant and dependent on each other. So they learn the feature more and perform better on unseen data. \n",
        "\n",
        "\n",
        "Internal covariance shift:\n",
        "\n",
        "Internal covariance shift refers to the phenomenon where ws the parameter of previous layers change, the distribution of each layer's input also change during training. To counteract, lower learning rates are necessary but that slows down training. Additionally, parameter initialization becomes very important, and overall makes training models difficult.  \n",
        "batch normalization is a way deal with this problem where each mini-batch are normalized, allowing higher training rate and less dependence on initialization. \n",
        "\n"
      ]
    },
    {
      "cell_type": "code",
      "execution_count": 3,
      "id": "DozcQROJk2uW",
      "metadata": {
        "colab": {
          "base_uri": "https://localhost:8080/"
        },
        "id": "DozcQROJk2uW",
        "outputId": "b908e3b3-f5c5-4a31-ec9b-ce9aa9485ca4"
      },
      "outputs": [
        {
          "output_type": "stream",
          "name": "stdout",
          "text": [
            "Downloading data from https://storage.googleapis.com/tensorflow/tf-keras-datasets/mnist.npz\n",
            "11493376/11490434 [==============================] - 0s 0us/step\n",
            "11501568/11490434 [==============================] - 0s 0us/step\n",
            "(60000, 32, 32)\n",
            "(60000, 32, 32, 1)\n",
            "(10000, 32, 32, 1)\n"
          ]
        }
      ],
      "source": [
        "# Load and prepare MNIST dataset.\n",
        "n_train = 60000\n",
        "n_test = 10000\n",
        "\n",
        "(x_train, y_train), (x_test, y_test) = mnist.load_data()\n",
        "num_classes = len(np.unique(y_test))\n",
        "\n",
        "\n",
        "#mnist data are 28*28 pixels\n",
        "#pad each image with 0s to turn to 32*32 pixel images\n",
        "x_train = np.pad(x_train, [(0,0), (0,4),(0,4)], 'constant')\n",
        "x_test = np.pad(x_test, [(0,0), (0,4),(0,4)], 'constant')\n",
        "print(x_train.shape)\n",
        "\n",
        "dim = 32*32\n",
        "#reshape to 4-dims so it works with Keras and convert to float to normalize\n",
        "x_train = x_train.reshape(x_train.shape[0], 32, 32, 1).astype('float32')\n",
        "x_test = x_test.reshape(x_test.shape[0], 32, 32, 1).astype('float32')\n",
        "\n",
        "print(x_train.shape)\n",
        "print(x_test.shape)\n",
        "\n",
        "#divide by 255 to get pixel between 0 and 1\n",
        "x_train /= 255\n",
        "x_test /= 255\n",
        "\n",
        "y_train = to_categorical(y_train, num_classes)\n",
        "y_test = to_categorical(y_test, num_classes)\n",
        "\n",
        "x_valid = x_train[:5000]\n",
        "y_valid = y_train[:5000]\n",
        "\n"
      ]
    },
    {
      "cell_type": "code",
      "execution_count": 4,
      "id": "K0_rvstueNLZ",
      "metadata": {
        "colab": {
          "base_uri": "https://localhost:8080/"
        },
        "id": "K0_rvstueNLZ",
        "outputId": "2bdc7d4a-55db-487d-9897-a9c6b7484a43"
      },
      "outputs": [
        {
          "output_type": "execute_result",
          "data": {
            "text/plain": [
              "(60000, 32, 32, 1)"
            ]
          },
          "metadata": {},
          "execution_count": 4
        }
      ],
      "source": [
        "x_train.shape"
      ]
    },
    {
      "cell_type": "markdown",
      "source": [
        "# LeNet-5 Model\n",
        "\n",
        "LeNet-5 layers:\n",
        "1. Convolution #1. Input = 32x32x1. Output = 28x28x6 conv2d\n",
        "2. SubSampling #1. Input = 28x28x6. Output = 14x14x6. SubSampling is simply Average Pooling so we use avg_pool\n",
        "3. Convolution #2. Input = 14x14x6. Output = 10x10x16 conv2d\n",
        "4. SubSampling #2. Input = 10x10x16. Output = 5x5x16 avg_pool\n",
        "5. Fully Connected #1. Input = 5x5x16. Output = 120\n",
        "6. Fully Connected #2. Input = 120. Output = 84\n",
        "7. Softmax with Output 10"
      ],
      "metadata": {
        "id": "DxqM7Lh7MOj_"
      },
      "id": "DxqM7Lh7MOj_"
    },
    {
      "cell_type": "markdown",
      "id": "f7iCtj_kxCQJ",
      "metadata": {
        "id": "f7iCtj_kxCQJ"
      },
      "source": [
        "## Standard norm for input and batch for hidden"
      ]
    },
    {
      "cell_type": "code",
      "execution_count": 43,
      "id": "u8VJa6MxYCjy",
      "metadata": {
        "id": "u8VJa6MxYCjy"
      },
      "outputs": [],
      "source": [
        "def build_lenet5_standard():\n",
        "  model = Sequential()\n",
        "  model.add(Conv2D(filters=6, kernel_size=(3, 3), input_shape=(32,32,1)))\n",
        "  model.add(Activation('tanh'))\n",
        "\n",
        "  model.add(AveragePooling2D())\n",
        "\n",
        "  model.add(Conv2D(filters=16, kernel_size=(3, 3)))\n",
        "  model.add(Activation('tanh'))\n",
        "\n",
        "  model.add(AveragePooling2D())\n",
        "\n",
        "  #flattens output of final pooling layer for the fully connected layer\n",
        "  model.add(Flatten())\n",
        "  model.add(Dense(units=120))\n",
        "  model.add(Activation('tanh'))\n",
        "\n",
        "  model.add(Dense(units=84))\n",
        "  model.add(Activation('tanh'))\n",
        "\n",
        "  #output\n",
        "  model.add(Dense(units=10))\n",
        "  model.add(Activation('softmax'))\n",
        "  return model\n",
        "\n",
        "\n",
        "def compile_model(model):\n",
        "  model.compile(loss=keras.losses.categorical_crossentropy,\n",
        "                  optimizer=Adam(),\n",
        "                  metrics=['accuracy'])\n",
        "  return model\n",
        "\n",
        "def grid_axes_it(n_plots, n_cols=3, enumerate=False, fig=None):\n",
        "    \"\"\"\n",
        "    Iterate through Axes objects on a grid with n_cols columns and as many\n",
        "    rows as needed to accommodate n_plots many plots.\n",
        "    Args:\n",
        "        n_plots: Number of plots to plot onto figure.\n",
        "        n_cols: Number of columns to divide the figure into.\n",
        "        fig: Optional figure reference.\n",
        "    Yields:\n",
        "        n_plots many Axes objects on a grid.\n",
        "    \"\"\"\n",
        "    n_rows = n_plots / n_cols + int(n_plots % n_cols > 0)\n",
        "\n",
        "    if not fig:\n",
        "        default_figsize = rcParamsDefault['figure.figsize']\n",
        "        fig = plt.figure(figsize=(\n",
        "            default_figsize[0] * n_cols,\n",
        "            default_figsize[1] * n_rows\n",
        "        ))\n",
        "\n",
        "    for i in range(1, n_plots + 1):\n",
        "        ax = plt.subplot(n_rows, n_cols, i)\n",
        "        yield ax\n"
      ]
    },
    {
      "cell_type": "markdown",
      "source": [
        "# Standard LeNet-5 with no batch normalization"
      ],
      "metadata": {
        "id": "5ONH5PwV4WPa"
      },
      "id": "5ONH5PwV4WPa"
    },
    {
      "cell_type": "code",
      "source": [
        "standard = build_lenet5_standard()\n",
        "\n",
        "standard = compile_model(standard) #compile model\n",
        "\n",
        "history = standard.fit(x_train, y_train, batch_size = 128, verbose= 0)\n",
        "\n",
        "train_loss = history.history['loss']\n",
        "train_acc = history.history['accuracy']\n",
        "\n",
        "test_loss, test_acc = standard.evaluate(x_test, y_test, verbose= 0)\n",
        "print('Train loss %.3f' %train_loss[0])\n",
        "print('Test loss %.3f' %test_loss)\n",
        "print('Train accuracy %.3f percent'  %(train_acc[0]*100))\n",
        "print('Test accuracy %.3f percent'  %(test_acc*100))"
      ],
      "metadata": {
        "colab": {
          "base_uri": "https://localhost:8080/"
        },
        "id": "hQG57O88z3Bp",
        "outputId": "e8798dc2-4bfe-4894-85f8-033d682025fb"
      },
      "id": "hQG57O88z3Bp",
      "execution_count": 61,
      "outputs": [
        {
          "output_type": "stream",
          "name": "stdout",
          "text": [
            "Train loss 0.343\n",
            "Test loss 0.175\n",
            "Train accuracy 90.217 percent\n",
            "Test accuracy 94.720 percent\n"
          ]
        }
      ]
    },
    {
      "cell_type": "markdown",
      "source": [
        "## Lenet-5 with BatchNormalization between layers\n"
      ],
      "metadata": {
        "id": "JvsQPd3w0YZ4"
      },
      "id": "JvsQPd3w0YZ4"
    },
    {
      "cell_type": "code",
      "source": [
        "def build_lenet5_batchnorm():\n",
        "  model = Sequential()\n",
        "  model.add(Conv2D(filters=6, kernel_size=(3, 3), input_shape=(32,32,1)))\n",
        "  model.add(BatchNormalization())\n",
        "  model.add(Activation('tanh'))\n",
        "\n",
        "  model.add(AveragePooling2D())\n",
        "  model.add(BatchNormalization())\n",
        "\n",
        "  model.add(Conv2D(filters=16, kernel_size=(3, 3)))\n",
        "  model.add(BatchNormalization())\n",
        "  model.add(Activation('tanh'))\n",
        "\n",
        "  model.add(AveragePooling2D())\n",
        "  model.add(BatchNormalization())\n",
        "\n",
        "  #flattens output of final pooling layer for the fully connected layer\n",
        "  model.add(Flatten())\n",
        "  model.add(Dense(units=120))\n",
        "  model.add(BatchNormalization())\n",
        "  model.add(Activation('tanh'))\n",
        "\n",
        "  model.add(Dense(units=84))\n",
        "  model.add(BatchNormalization())\n",
        "  model.add(Activation('tanh'))\n",
        "\n",
        "  #output\n",
        "  model.add(Dense(units=10))\n",
        "  model.add(Activation('softmax'))\n",
        "  return model"
      ],
      "metadata": {
        "id": "WC3L68CW0b3M"
      },
      "id": "WC3L68CW0b3M",
      "execution_count": 62,
      "outputs": []
    },
    {
      "cell_type": "code",
      "source": [
        "batchnorm = build_lenet5_batchnorm() #build model"
      ],
      "metadata": {
        "id": "HAljy7LUpSFC"
      },
      "id": "HAljy7LUpSFC",
      "execution_count": 63,
      "outputs": []
    },
    {
      "cell_type": "markdown",
      "id": "Rwt5XeYMJCEu",
      "metadata": {
        "id": "Rwt5XeYMJCEu"
      },
      "source": [
        "The learned batch parameters are beta and gamma"
      ]
    },
    {
      "cell_type": "code",
      "execution_count": 64,
      "id": "MiK8yp27AbUr",
      "metadata": {
        "id": "MiK8yp27AbUr"
      },
      "outputs": [],
      "source": [
        "batchnorm = compile_model(batchnorm) #compile model\n",
        "\n",
        "history = batchnorm.fit(x_train, y_train, batch_size = 128, verbose= 0)"
      ]
    },
    {
      "cell_type": "code",
      "source": [
        "train_loss = history.history['loss']\n",
        "train_acc = history.history['accuracy']\n",
        "\n",
        "test_loss, test_acc = batchnorm.evaluate(x_test, y_test, verbose= 0)\n",
        "print('Train loss %.3f' %train_loss[0])\n",
        "print('Test loss %.3f' %test_loss)\n",
        "print('Train accuracy %.3f percent'  %(train_acc[0]*100))\n",
        "print('Test accuracy %.3f percent'  %(test_acc*100))"
      ],
      "metadata": {
        "colab": {
          "base_uri": "https://localhost:8080/"
        },
        "id": "oFbo2zUhsDXD",
        "outputId": "c1647a43-8c89-4c15-c27a-72adb09527e3"
      },
      "id": "oFbo2zUhsDXD",
      "execution_count": 65,
      "outputs": [
        {
          "output_type": "stream",
          "name": "stdout",
          "text": [
            "Train loss 0.187\n",
            "Test loss 0.210\n",
            "Train accuracy 94.727 percent\n",
            "Test accuracy 93.780 percent\n"
          ]
        }
      ]
    },
    {
      "cell_type": "markdown",
      "source": [
        "Batch normalization of hidden layers appears to slightly reduce performance on test"
      ],
      "metadata": {
        "id": "0FI4_uIJ5c5_"
      },
      "id": "0FI4_uIJ5c5_"
    },
    {
      "cell_type": "code",
      "source": [
        "def get_batchlayer_weights(model):\n",
        "  batch_ind = []\n",
        "  for i, layer in enumerate(model.layers):\n",
        "    if(layer.name.startswith('batch')):\n",
        "      batch_ind.append(i)\n",
        "\n",
        "  gamma = []\n",
        "  beta = []\n",
        "  rows = []\n",
        "\n",
        "  #for each batch layer, get the learned parameters\n",
        "  for b_i in batch_ind:\n",
        "    layer = model.layers[b_i]\n",
        "    gamma = layer.get_weights()[0]\n",
        "    beta = layer.get_weights()[1]\n",
        "    #print(beta)\n",
        "    for i, b in enumerate(beta):\n",
        "      rows.append([b_i, gamma[i], beta[i]])\n",
        "    \n",
        "  df = pd.DataFrame(rows, columns=['Hidden Layer',  'Gamma', 'Beta'])\n",
        "  return df\n",
        "\n",
        "#make violin plots of gamma and beta at each layer\n",
        "def make_violin_plot(df, xname, yname):\n",
        "  fig = plt.figure(figsize=(12, 6))\n",
        "  axes = grid_axes_it(1, 1, fig=fig)\n",
        "\n",
        "  ax = next(axes)\n",
        "  sns.violinplot(x=xname, y=yname, data=df, ax=ax, scale='count', inner=None)\n",
        "  ax.set_xlabel('')\n",
        "  ax.set_ylabel('')\n",
        "  ax.set_title('Learned Norm-'+yname +'', fontsize=13)\n",
        "  ax.set_ylabel(yname)\n",
        "  ax.set_xlabel(xname) \n",
        "  plt.tight_layout()\n",
        "  plt.show()\n"
      ],
      "metadata": {
        "id": "rNvm_K78xvBB"
      },
      "id": "rNvm_K78xvBB",
      "execution_count": 66,
      "outputs": []
    },
    {
      "cell_type": "code",
      "source": [
        "df = get_batchlayer_weights(batchnorm)\n",
        "make_violin_plot(df, 'Hidden Layer', 'Beta')\n",
        "make_violin_plot(df, 'Hidden Layer', 'Gamma')"
      ],
      "metadata": {
        "colab": {
          "base_uri": "https://localhost:8080/",
          "height": 865
        },
        "id": "r-ZtMxqAyNf6",
        "outputId": "788b8c1f-e7c9-4f84-9937-7d0c1115ad48"
      },
      "id": "r-ZtMxqAyNf6",
      "execution_count": 67,
      "outputs": [
        {
          "output_type": "display_data",
          "data": {
            "image/png": "[encoded data removed]",
            "text/plain": [
              "<Figure size 864x432 with 1 Axes>"
            ]
          },
          "metadata": {
            "needs_background": "light"
          }
        },
        {
          "output_type": "display_data",
          "data": {
            "image/png": "[encoded data removed]",
            "text/plain": [
              "<Figure size 864x432 with 1 Axes>"
            ]
          },
          "metadata": {
            "needs_background": "light"
          }
        }
      ]
    },
    {
      "cell_type": "markdown",
      "id": "lEtfDtX-xNIN",
      "metadata": {
        "id": "lEtfDtX-xNIN"
      },
      "source": [
        "## LeNet-5 with Batch normalization to input layer + hidden layers"
      ]
    },
    {
      "cell_type": "code",
      "execution_count": 69,
      "id": "lSSYqjS6xIJP",
      "metadata": {
        "id": "lSSYqjS6xIJP"
      },
      "outputs": [],
      "source": [
        "def build_lenet5_batchnorm_input():\n",
        "  model = Sequential()\n",
        "  model.add(BatchNormalization(input_shape=(32,32,1)))\n",
        "  model.add(Conv2D(filters=6, kernel_size=(3, 3)))\n",
        "  model.add(BatchNormalization())\n",
        "  model.add(Activation('tanh'))\n",
        "\n",
        "  model.add(AveragePooling2D())\n",
        "  model.add(BatchNormalization())\n",
        "\n",
        "  model.add(Conv2D(filters=16, kernel_size=(3, 3)))\n",
        "  model.add(BatchNormalization())\n",
        "  model.add(Activation('tanh'))\n",
        "\n",
        "  model.add(AveragePooling2D())\n",
        "  model.add(BatchNormalization())\n",
        "\n",
        "  #flattens output of final pooling layer for the fully connected layer\n",
        "  model.add(Flatten())\n",
        "  model.add(Dense(units=120))\n",
        "  model.add(BatchNormalization())\n",
        "  model.add(Activation('tanh'))\n",
        "\n",
        "  model.add(Dense(units=84))\n",
        "  model.add(BatchNormalization())\n",
        "  model.add(Activation('tanh'))\n",
        "\n",
        "  #output\n",
        "  model.add(Dense(units=10))\n",
        "  model.add(Activation('softmax'))\n",
        "  return model"
      ]
    },
    {
      "cell_type": "code",
      "execution_count": 74,
      "id": "XI5Cnh-ck91Y",
      "metadata": {
        "colab": {
          "base_uri": "https://localhost:8080/"
        },
        "id": "XI5Cnh-ck91Y",
        "outputId": "ee5e84a1-7d50-494c-91d8-0a59e4867975"
      },
      "outputs": [
        {
          "output_type": "stream",
          "name": "stdout",
          "text": [
            "Train loss 0.180\n",
            "Test loss 0.115\n",
            "Train accuracy 94.972 percent\n",
            "Test accuracy 96.440 percent\n"
          ]
        }
      ],
      "source": [
        "batchnorm_input = build_lenet5_batchnorm_input()\n",
        "batchnorm_input = compile_model(batchnorm_input)\n",
        "\n",
        "history = batchnorm_input.fit(x_train, y_train, batch_size = 128, verbose= 0)\n",
        "\n",
        "train_loss = history.history['loss']\n",
        "train_acc = history.history['accuracy']\n",
        "\n",
        "test_loss, test_acc = batchnorm_input.evaluate(x_test, y_test, verbose= 0)\n",
        "\n",
        "test_loss, test_acc = batchnorm_input.evaluate(x_test, y_test, verbose= 0)\n",
        "print('Train loss %.3f' %train_loss[0])\n",
        "print('Test loss %.3f' %test_loss)\n",
        "print('Train accuracy %.3f percent'  %(train_acc[0]*100))\n",
        "print('Test accuracy %.3f percent'  %(test_acc*100))"
      ]
    },
    {
      "cell_type": "markdown",
      "source": [
        "Batch normalizationg of input layer + hidden layer improved performance on test set over batch normalization of hidden layers only and also over standard with no batch normalization"
      ],
      "metadata": {
        "id": "-De3NpfE5CQu"
      },
      "id": "-De3NpfE5CQu"
    },
    {
      "cell_type": "code",
      "source": [
        "df_bn_input = get_batchlayer_weights(batchnorm_input)\n",
        "make_violin_plot(df_bn_input, 'Hidden Layer', 'Beta')\n",
        "make_violin_plot(df_bn_input, 'Hidden Layer', 'Gamma')"
      ],
      "metadata": {
        "colab": {
          "base_uri": "https://localhost:8080/",
          "height": 865
        },
        "id": "I1iZX9eFyuww",
        "outputId": "e66cc144-1aa0-436c-edae-95c0c84c7de2"
      },
      "id": "I1iZX9eFyuww",
      "execution_count": 75,
      "outputs": [
        {
          "output_type": "display_data",
          "data": {
            "image/png": "[encoded data removed]",
            "text/plain": [
              "<Figure size 864x432 with 1 Axes>"
            ]
          },
          "metadata": {
            "needs_background": "light"
          }
        },
        {
          "output_type": "display_data",
          "data": {
            "image/png": "[encoded data removed]",
            "text/plain": [
              "<Figure size 864x432 with 1 Axes>"
            ]
          },
          "metadata": {
            "needs_background": "light"
          }
        }
      ]
    },
    {
      "cell_type": "markdown",
      "id": "B10SZRFJxb1F",
      "metadata": {
        "id": "B10SZRFJxb1F"
      },
      "source": [
        "## LeNet-5 with dropout only\n",
        "dropout used for input & after conv and pooling layers\n",
        "\n",
        "Dropout of 0.2 in input layer.\n",
        "\n",
        "Dropout of 0.5 for hidden layers."
      ]
    },
    {
      "cell_type": "code",
      "execution_count": 76,
      "id": "VQAAP2zcxaqM",
      "metadata": {
        "id": "VQAAP2zcxaqM"
      },
      "outputs": [],
      "source": [
        "def build_lenet5_dropout():\n",
        "\n",
        "  model = Sequential()\n",
        "\n",
        "  model.add(Dropout(0.2, input_shape=(32,32,1)))\n",
        "  model.add(Conv2D(filters=6, kernel_size=(3, 3)))\n",
        "\n",
        "  model.add(Activation('tanh'))\n",
        "\n",
        "  model.add(AveragePooling2D())\n",
        "  model.add(Dropout(0.5))\n",
        "\n",
        "  model.add(Conv2D(filters=16, kernel_size=(3, 3)))\n",
        "  model.add(Dropout(0.5))\n",
        "  model.add(Activation('tanh'))\n",
        "\n",
        "  model.add(AveragePooling2D())\n",
        "  model.add(Dropout(0.5))\n",
        "\n",
        "  #flattens output of final pooling layer for the fully connected layer\n",
        "  model.add(Flatten())\n",
        "  model.add(Dense(units=120))\n",
        "  model.add(Dropout(0.5))\n",
        "  model.add(Activation('tanh'))\n",
        "\n",
        "  model.add(Dense(units=84))\n",
        "  model.add(Dropout(0.5))\n",
        "  model.add(Activation('tanh'))\n",
        "\n",
        "  #output\n",
        "  model.add(Dense(units=10))\n",
        "  model.add(Activation('softmax'))\n",
        "\n",
        "  return model\n"
      ]
    },
    {
      "cell_type": "code",
      "execution_count": 77,
      "id": "2dMmYz_snSTW",
      "metadata": {
        "colab": {
          "base_uri": "https://localhost:8080/"
        },
        "id": "2dMmYz_snSTW",
        "outputId": "6ec6866d-7353-48a2-94d5-cb268037bd6d"
      },
      "outputs": [
        {
          "output_type": "stream",
          "name": "stdout",
          "text": [
            "Train loss 0.932\n",
            "Test loss 0.447\n",
            "Train accuracy 70.018 percent\n",
            "Test accuracy 89.250 percent\n"
          ]
        }
      ],
      "source": [
        "dropout = build_lenet5_dropout()\n",
        "dropout = compile_model(dropout)\n",
        "\n",
        "history = dropout.fit(x_train, y_train, batch_size = 128, verbose= 0)\n",
        "\n",
        "train_loss = history.history['loss']\n",
        "train_acc = history.history['accuracy']\n",
        "\n",
        "test_loss, test_acc = dropout.evaluate(x_test, y_test, verbose= 0)\n",
        "\n",
        "print('Train loss %.3f' %train_loss[0])\n",
        "print('Test loss %.3f' %test_loss)\n",
        "print('Train accuracy %.3f percent'  %(train_acc[0]*100))\n",
        "print('Test accuracy %.3f percent'  %(test_acc*100))\n"
      ]
    },
    {
      "cell_type": "markdown",
      "source": [
        "Using dropout only has a test accuracy of 89.25% which is significantly less than the 97% achieved with batch normalization"
      ],
      "metadata": {
        "id": "4ir1sDVQ4t5D"
      },
      "id": "4ir1sDVQ4t5D"
    },
    {
      "cell_type": "markdown",
      "id": "yBIj2e_-xqGV",
      "metadata": {
        "id": "yBIj2e_-xqGV"
      },
      "source": [
        "# LeNet-5 with Batch Norm + Dropout"
      ]
    },
    {
      "cell_type": "code",
      "execution_count": 78,
      "id": "QQ7By81fxoa8",
      "metadata": {
        "id": "QQ7By81fxoa8"
      },
      "outputs": [],
      "source": [
        "def build_lenet5_dropout_batchnorm():\n",
        "  model = Sequential()\n",
        "  model.add(BatchNormalization(input_shape=(32,32,1)))\n",
        "  model.add(Dropout(0.2))\n",
        "\n",
        "  model.add(Conv2D(filters=6, kernel_size=(3, 3)))\n",
        "  model.add(BatchNormalization())\n",
        "  model.add(Dropout(0.5))\n",
        "  model.add(Activation('tanh'))\n",
        "\n",
        "  model.add(AveragePooling2D())\n",
        "  model.add(BatchNormalization())\n",
        "  model.add(Dropout(0.5))\n",
        "\n",
        "  model.add(Conv2D(filters=16, kernel_size=(3, 3)))\n",
        "  model.add(BatchNormalization())\n",
        "  model.add(Dropout(0.5))\n",
        "  model.add(Activation('tanh'))\n",
        "\n",
        "  model.add(AveragePooling2D())\n",
        "  model.add(BatchNormalization())\n",
        "  model.add(Dropout(0.5))\n",
        "\n",
        "  #flattens output of final pooling layer for the fully connected layer\n",
        "  model.add(Flatten())\n",
        "  model.add(Dense(units=120))\n",
        "  model.add(BatchNormalization())\n",
        "  model.add(Dropout(0.5))\n",
        "\n",
        "  model.add(Activation('tanh'))\n",
        "\n",
        "  model.add(Dense(units=84))\n",
        "  model.add(BatchNormalization())\n",
        "  model.add(Dropout(0.5))\n",
        "  model.add(Activation('tanh'))\n",
        "\n",
        "  #output\n",
        "  model.add(Dense(units=10))\n",
        "  model.add(Activation('softmax'))\n",
        "  return model"
      ]
    },
    {
      "cell_type": "code",
      "source": [
        "combined = build_lenet5_dropout_batchnorm()\n",
        "combined = compile_model(combined)\n",
        "\n",
        "history = combined.fit(x_train, y_train, batch_size = 128, verbose= 0)\n",
        "\n",
        "train_loss = history.history['loss']\n",
        "train_acc = history.history['accuracy']\n",
        "\n",
        "test_loss, test_acc = combined.evaluate(x_test, y_test, verbose= 0)\n",
        "\n",
        "print('Train loss %.3f' %train_loss[0])\n",
        "print('Test loss %.3f' %test_loss)\n",
        "print('Train accuracy %.3f percent'  %(train_acc[0]*100))\n",
        "print('Test accuracy %.3f percent'  %(test_acc*100))"
      ],
      "metadata": {
        "colab": {
          "base_uri": "https://localhost:8080/"
        },
        "id": "wdBe6iED4AVH",
        "outputId": "8d97f8c4-2197-4603-f4f1-4ada1563cf4a"
      },
      "id": "wdBe6iED4AVH",
      "execution_count": 79,
      "outputs": [
        {
          "output_type": "stream",
          "name": "stdout",
          "text": [
            "Train loss 1.232\n",
            "Test loss 0.669\n",
            "Train accuracy 58.827 percent\n",
            "Test accuracy 81.870 percent\n"
          ]
        }
      ]
    },
    {
      "cell_type": "markdown",
      "source": [
        "With both dropout and batch norm, we see the worst accuracy compared to batch norm only or drop out only.\n",
        "\n",
        "The test accuracy is 81%, 10% lower than drop out only and 20% lower than batch only"
      ],
      "metadata": {
        "id": "jCNUoJz04mis"
      },
      "id": "jCNUoJz04mis"
    }
  ],
  "metadata": {
    "colab": {
      "name": "nn-regularization.ipynb",
      "provenance": [],
      "collapsed_sections": []
    },
    "kernelspec": {
      "display_name": "Python 3",
      "language": "python",
      "name": "python3"
    },
    "language_info": {
      "codemirror_mode": {
        "name": "ipython",
        "version": 3
      },
      "file_extension": ".py",
      "mimetype": "text/x-python",
      "name": "python",
      "nbconvert_exporter": "python",
      "pygments_lexer": "ipython3",
      "version": "3.9.4"
    }
  },
  "nbformat": 4,
  "nbformat_minor": 5
}